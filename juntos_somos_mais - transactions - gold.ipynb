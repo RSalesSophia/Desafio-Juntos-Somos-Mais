{
 "cells": [
  {
   "cell_type": "markdown",
   "metadata": {
    "application/vnd.databricks.v1+cell": {
     "cellMetadata": {
      "byteLimit": 2048000,
      "rowLimit": 10000
     },
     "inputWidgets": {},
     "nuid": "d1dff896-792e-4269-9ffa-c976054bcfd0",
     "showTitle": false,
     "tableResultSettingsMap": {},
     "title": ""
    }
   },
   "source": [
    "# Gold"
   ]
  },
  {
   "cell_type": "markdown",
   "metadata": {
    "application/vnd.databricks.v1+cell": {
     "cellMetadata": {
      "byteLimit": 2048000,
      "rowLimit": 10000
     },
     "inputWidgets": {},
     "nuid": "904a3c56-0e7c-468e-a7bb-b871fbd28ed6",
     "showTitle": false,
     "tableResultSettingsMap": {},
     "title": ""
    }
   },
   "source": [
    "## Criar schema"
   ]
  },
  {
   "cell_type": "code",
   "execution_count": 0,
   "metadata": {
    "application/vnd.databricks.v1+cell": {
     "cellMetadata": {
      "byteLimit": 2048000,
      "implicitDf": true,
      "rowLimit": 10000
     },
     "inputWidgets": {},
     "nuid": "03dee6aa-63af-4536-b30a-95a9dcb9935d",
     "showTitle": false,
     "tableResultSettingsMap": {},
     "title": ""
    }
   },
   "outputs": [],
   "source": [
    "create schema if not exists juntos_somos_mais.gold"
   ]
  },
  {
   "cell_type": "markdown",
   "metadata": {
    "application/vnd.databricks.v1+cell": {
     "cellMetadata": {
      "byteLimit": 2048000,
      "rowLimit": 10000
     },
     "inputWidgets": {},
     "nuid": "4f94ac7e-2f9c-4d23-a5ce-576a1b565005",
     "showTitle": false,
     "tableResultSettingsMap": {},
     "title": ""
    }
   },
   "source": [
    "## Criar tabela"
   ]
  },
  {
   "cell_type": "markdown",
   "metadata": {
    "application/vnd.databricks.v1+cell": {
     "cellMetadata": {
      "byteLimit": 2048000,
      "rowLimit": 10000
     },
     "inputWidgets": {},
     "nuid": "ad7d8769-fd6a-43ca-802d-2fce05cfda2c",
     "showTitle": false,
     "tableResultSettingsMap": {},
     "title": ""
    }
   },
   "source": [
    "## Tabela: Order"
   ]
  },
  {
   "cell_type": "code",
   "execution_count": 0,
   "metadata": {
    "application/vnd.databricks.v1+cell": {
     "cellMetadata": {
      "byteLimit": 2048000,
      "rowLimit": 10000
     },
     "inputWidgets": {},
     "nuid": "82649cc0-2598-4611-824d-366fe6447bd7",
     "showTitle": false,
     "tableResultSettingsMap": {},
     "title": ""
    }
   },
   "outputs": [],
   "source": [
    "-- Objetivo: representar uma linha por pedido (isto é, foco na transação como unidade)\n",
    "create or replace temp view new_orders as\n",
    "select \n",
    "  date, \n",
    "  transaction_id, \n",
    "  customer_id,\n",
    "  count(distinct product_id) distinct_products, \n",
    "  sum(quantity) total_products, \n",
    "  round(sum(price)/sum(quantity),2) avg_ticket, \n",
    "  round(sum(price * quantity),2) total_transaction, \n",
    "  transaction_status\n",
    "from juntos_somos_mais.silver.transactions_cleaned\n",
    "group by date, transaction_id, customer_id, transaction_status"
   ]
  },
  {
   "cell_type": "code",
   "execution_count": 0,
   "metadata": {
    "application/vnd.databricks.v1+cell": {
     "cellMetadata": {
      "byteLimit": 2048000,
      "rowLimit": 10000
     },
     "inputWidgets": {},
     "nuid": "e8178337-0d2e-40ce-938a-64d16096a733",
     "showTitle": false,
     "tableResultSettingsMap": {},
     "title": ""
    }
   },
   "outputs": [
    {
     "output_type": "display_data",
     "data": {
      "text/html": [
       "<style scoped>\n",
       "  .table-result-container {\n",
       "    max-height: 300px;\n",
       "    overflow: auto;\n",
       "  }\n",
       "  table, th, td {\n",
       "    border: 1px solid black;\n",
       "    border-collapse: collapse;\n",
       "  }\n",
       "  th, td {\n",
       "    padding: 5px;\n",
       "  }\n",
       "  th {\n",
       "    text-align: left;\n",
       "  }\n",
       "</style><div class='table-result-container'><table class='table-result'><thead style='background-color: white'><tr><th>date</th><th>transaction_id</th><th>customer_id</th><th>distinct_products</th><th>total_products</th><th>avg_ticket</th><th>total_transaction</th><th>transaction_status</th></tr></thead><tbody><tr><td>2018-12-01</td><td>536365</td><td>17850</td><td>7</td><td>40</td><td>2.49</td><td>552.52</td><td>not cancelled</td></tr><tr><td>2018-12-01</td><td>536366</td><td>17850</td><td>2</td><td>12</td><td>2.03</td><td>145.8</td><td>not cancelled</td></tr><tr><td>2018-12-01</td><td>536367</td><td>13047</td><td>12</td><td>83</td><td>2.2</td><td>1136.34</td><td>not cancelled</td></tr><tr><td>2018-12-01</td><td>536368</td><td>13047</td><td>4</td><td>15</td><td>4.04</td><td>225.54</td><td>not cancelled</td></tr><tr><td>2018-12-01</td><td>536369</td><td>13047</td><td>1</td><td>3</td><td>5.45</td><td>49.05</td><td>not cancelled</td></tr><tr><td>2018-12-01</td><td>536370</td><td>12583</td><td>19</td><td>446</td><td>0.52</td><td>5393.02</td><td>not cancelled</td></tr><tr><td>2018-12-01</td><td>536371</td><td>13748</td><td>1</td><td>80</td><td>0.16</td><td>1028.8</td><td>not cancelled</td></tr><tr><td>2018-12-01</td><td>536372</td><td>17850</td><td>2</td><td>12</td><td>2.03</td><td>145.8</td><td>not cancelled</td></tr><tr><td>2018-12-01</td><td>536373</td><td>17850</td><td>16</td><td>88</td><td>2.48</td><td>1168.28</td><td>not cancelled</td></tr><tr><td>2018-12-01</td><td>536374</td><td>15100</td><td>1</td><td>32</td><td>0.67</td><td>687.04</td><td>not cancelled</td></tr></tbody></table></div>"
      ]
     },
     "metadata": {
      "application/vnd.databricks.v1+output": {
       "addedWidgets": {},
       "aggData": [],
       "aggError": "",
       "aggOverflow": false,
       "aggSchema": [],
       "aggSeriesLimitReached": false,
       "aggType": "",
       "arguments": {},
       "columnCustomDisplayInfos": {},
       "data": [
        [
         "2018-12-01",
         536365,
         17850,
         7,
         40,
         2.49,
         552.52,
         "not cancelled"
        ],
        [
         "2018-12-01",
         536366,
         17850,
         2,
         12,
         2.03,
         145.8,
         "not cancelled"
        ],
        [
         "2018-12-01",
         536367,
         13047,
         12,
         83,
         2.2,
         1136.34,
         "not cancelled"
        ],
        [
         "2018-12-01",
         536368,
         13047,
         4,
         15,
         4.04,
         225.54,
         "not cancelled"
        ],
        [
         "2018-12-01",
         536369,
         13047,
         1,
         3,
         5.45,
         49.05,
         "not cancelled"
        ],
        [
         "2018-12-01",
         536370,
         12583,
         19,
         446,
         0.52,
         5393.02,
         "not cancelled"
        ],
        [
         "2018-12-01",
         536371,
         13748,
         1,
         80,
         0.16,
         1028.8,
         "not cancelled"
        ],
        [
         "2018-12-01",
         536372,
         17850,
         2,
         12,
         2.03,
         145.8,
         "not cancelled"
        ],
        [
         "2018-12-01",
         536373,
         17850,
         16,
         88,
         2.48,
         1168.28,
         "not cancelled"
        ],
        [
         "2018-12-01",
         536374,
         15100,
         1,
         32,
         0.67,
         687.04,
         "not cancelled"
        ]
       ],
       "datasetInfos": [
        {
         "name": "_sqldf",
         "schema": {
          "fields": [
           {
            "metadata": {},
            "name": "date",
            "nullable": true,
            "type": "date"
           },
           {
            "metadata": {},
            "name": "transaction_id",
            "nullable": true,
            "type": "integer"
           },
           {
            "metadata": {},
            "name": "customer_id",
            "nullable": true,
            "type": "long"
           },
           {
            "metadata": {},
            "name": "distinct_products",
            "nullable": false,
            "type": "long"
           },
           {
            "metadata": {},
            "name": "total_products",
            "nullable": true,
            "type": "long"
           },
           {
            "metadata": {},
            "name": "avg_ticket",
            "nullable": true,
            "type": "double"
           },
           {
            "metadata": {},
            "name": "total_transaction",
            "nullable": true,
            "type": "double"
           },
           {
            "metadata": {},
            "name": "transaction_status",
            "nullable": true,
            "type": "string"
           }
          ],
          "type": "struct"
         },
         "tableIdentifier": null,
         "typeStr": "pyspark.sql.connect.dataframe.DataFrame"
        }
       ],
       "dbfsResultPath": null,
       "isJsonSchema": true,
       "metadata": {
        "createTempViewForImplicitDf": true,
        "dataframeName": "_sqldf",
        "executionCount": 71
       },
       "overflow": false,
       "plotOptions": {
        "customPlotOptions": {},
        "displayType": "table",
        "pivotAggregation": null,
        "pivotColumns": null,
        "xColumns": null,
        "yColumns": null
       },
       "removedWidgets": [],
       "schema": [
        {
         "metadata": "{}",
         "name": "date",
         "type": "\"date\""
        },
        {
         "metadata": "{}",
         "name": "transaction_id",
         "type": "\"integer\""
        },
        {
         "metadata": "{}",
         "name": "customer_id",
         "type": "\"long\""
        },
        {
         "metadata": "{}",
         "name": "distinct_products",
         "type": "\"long\""
        },
        {
         "metadata": "{}",
         "name": "total_products",
         "type": "\"long\""
        },
        {
         "metadata": "{}",
         "name": "avg_ticket",
         "type": "\"double\""
        },
        {
         "metadata": "{}",
         "name": "total_transaction",
         "type": "\"double\""
        },
        {
         "metadata": "{}",
         "name": "transaction_status",
         "type": "\"string\""
        }
       ],
       "type": "table"
      }
     },
     "output_type": "display_data"
    }
   ],
   "source": [
    "select * from new_orders\n",
    "order by date, transaction_id\n",
    "limit 10"
   ]
  },
  {
   "cell_type": "code",
   "execution_count": 0,
   "metadata": {
    "application/vnd.databricks.v1+cell": {
     "cellMetadata": {
      "byteLimit": 2048000,
      "rowLimit": 10000
     },
     "inputWidgets": {},
     "nuid": "b35343f5-a6d9-4d88-828e-4079c8fbb942",
     "showTitle": false,
     "tableResultSettingsMap": {},
     "title": ""
    }
   },
   "outputs": [
    {
     "output_type": "display_data",
     "data": {
      "text/html": [
       "<style scoped>\n",
       "  .table-result-container {\n",
       "    max-height: 300px;\n",
       "    overflow: auto;\n",
       "  }\n",
       "  table, th, td {\n",
       "    border: 1px solid black;\n",
       "    border-collapse: collapse;\n",
       "  }\n",
       "  th, td {\n",
       "    padding: 5px;\n",
       "  }\n",
       "  th {\n",
       "    text-align: left;\n",
       "  }\n",
       "</style><div class='table-result-container'><table class='table-result'><thead style='background-color: white'><tr><th>num_affected_rows</th><th>num_updated_rows</th><th>num_deleted_rows</th><th>num_inserted_rows</th></tr></thead><tbody><tr><td>23204</td><td>0</td><td>0</td><td>23204</td></tr></tbody></table></div>"
      ]
     },
     "metadata": {
      "application/vnd.databricks.v1+output": {
       "addedWidgets": {},
       "aggData": [],
       "aggError": "",
       "aggOverflow": false,
       "aggSchema": [],
       "aggSeriesLimitReached": false,
       "aggType": "",
       "arguments": {},
       "columnCustomDisplayInfos": {},
       "data": [
        [
         23204,
         0,
         0,
         23204
        ]
       ],
       "datasetInfos": [
        {
         "name": "_sqldf",
         "schema": {
          "fields": [
           {
            "metadata": {},
            "name": "num_affected_rows",
            "nullable": true,
            "type": "long"
           },
           {
            "metadata": {},
            "name": "num_updated_rows",
            "nullable": true,
            "type": "long"
           },
           {
            "metadata": {},
            "name": "num_deleted_rows",
            "nullable": true,
            "type": "long"
           },
           {
            "metadata": {},
            "name": "num_inserted_rows",
            "nullable": true,
            "type": "long"
           }
          ],
          "type": "struct"
         },
         "tableIdentifier": null,
         "typeStr": "pyspark.sql.connect.dataframe.DataFrame"
        }
       ],
       "dbfsResultPath": null,
       "isJsonSchema": true,
       "metadata": {
        "createTempViewForImplicitDf": true,
        "dataframeName": "_sqldf",
        "executionCount": 72
       },
       "overflow": false,
       "plotOptions": {
        "customPlotOptions": {},
        "displayType": "table",
        "pivotAggregation": null,
        "pivotColumns": null,
        "xColumns": null,
        "yColumns": null
       },
       "removedWidgets": [],
       "schema": [
        {
         "metadata": "{}",
         "name": "num_affected_rows",
         "type": "\"long\""
        },
        {
         "metadata": "{}",
         "name": "num_updated_rows",
         "type": "\"long\""
        },
        {
         "metadata": "{}",
         "name": "num_deleted_rows",
         "type": "\"long\""
        },
        {
         "metadata": "{}",
         "name": "num_inserted_rows",
         "type": "\"long\""
        }
       ],
       "type": "table"
      }
     },
     "output_type": "display_data"
    }
   ],
   "source": [
    "create table if not exists juntos_somos_mais.gold.orders (\n",
    "  date DATE,\n",
    "  transaction_id INT,\n",
    "  customer_id BIGINT,\n",
    "  distinct_products INT,\n",
    "  total_products INT,\n",
    "  avg_ticket DOUBLE,\n",
    "  total_transaction DOUBLE,\n",
    "  transaction_status STRING\n",
    ")\n",
    "using delta\n",
    "comment \"Gold layer - aggregated orders per transaction\"; \n",
    "\n",
    "merge into juntos_somos_mais.gold.orders as target\n",
    "using new_orders as source\n",
    "ON target.transaction_id = source.transaction_id\n",
    "when matched then update set\n",
    "  target.transaction_status = source.transaction_status\n",
    "when not matched then \n",
    "insert *;"
   ]
  },
  {
   "cell_type": "code",
   "execution_count": 0,
   "metadata": {
    "application/vnd.databricks.v1+cell": {
     "cellMetadata": {
      "byteLimit": 2048000,
      "rowLimit": 10000
     },
     "inputWidgets": {},
     "nuid": "37e37441-d155-47f2-9eef-c305d6e35240",
     "showTitle": false,
     "tableResultSettingsMap": {},
     "title": ""
    }
   },
   "outputs": [
    {
     "output_type": "display_data",
     "data": {
      "text/html": [
       "<style scoped>\n",
       "  .table-result-container {\n",
       "    max-height: 300px;\n",
       "    overflow: auto;\n",
       "  }\n",
       "  table, th, td {\n",
       "    border: 1px solid black;\n",
       "    border-collapse: collapse;\n",
       "  }\n",
       "  th, td {\n",
       "    padding: 5px;\n",
       "  }\n",
       "  th {\n",
       "    text-align: left;\n",
       "  }\n",
       "</style><div class='table-result-container'><table class='table-result'><thead style='background-color: white'><tr><th>date</th><th>transaction_id</th><th>customer_id</th><th>distinct_products</th><th>total_products</th><th>avg_ticket</th><th>total_transaction</th><th>transaction_status</th></tr></thead><tbody><tr><td>2019-07-18</td><td>560393</td><td>14808</td><td>49</td><td>465</td><td>1.38</td><td>5241.95</td><td>not cancelled</td></tr><tr><td>2019-07-18</td><td>560434</td><td>15434</td><td>442</td><td>1192</td><td>4.93</td><td>14543.33</td><td>not cancelled</td></tr><tr><td>2019-07-18</td><td>560368</td><td>17841</td><td>113</td><td>384</td><td>3.84</td><td>4556.34</td><td>not cancelled</td></tr><tr><td>2019-07-18</td><td>560291</td><td>15291</td><td>44</td><td>70</td><td>9.92</td><td>1062.19</td><td>not cancelled</td></tr><tr><td>2019-07-18</td><td>560394</td><td>14390</td><td>39</td><td>310</td><td>1.47</td><td>3294.97</td><td>not cancelled</td></tr><tr><td>2019-07-18</td><td>560437</td><td>13940</td><td>15</td><td>100</td><td>2.14</td><td>1248.97</td><td>not cancelled</td></tr><tr><td>2019-07-18</td><td>560290</td><td>12290</td><td>31</td><td>49</td><td>8.7</td><td>642.38</td><td>not cancelled</td></tr><tr><td>2019-07-18</td><td>560385</td><td>14583</td><td>60</td><td>145</td><td>5.53</td><td>1779.05</td><td>not cancelled</td></tr><tr><td>2019-07-18</td><td>560433</td><td>15433</td><td>236</td><td>580</td><td>5.44</td><td>7237.87</td><td>not cancelled</td></tr><tr><td>2019-07-18</td><td>560287</td><td>13821</td><td>17</td><td>43</td><td>4.77</td><td>484.79</td><td>not cancelled</td></tr></tbody></table></div>"
      ]
     },
     "metadata": {
      "application/vnd.databricks.v1+output": {
       "addedWidgets": {},
       "aggData": [],
       "aggError": "",
       "aggOverflow": false,
       "aggSchema": [],
       "aggSeriesLimitReached": false,
       "aggType": "",
       "arguments": {},
       "columnCustomDisplayInfos": {},
       "data": [
        [
         "2019-07-18",
         560393,
         14808,
         49,
         465,
         1.38,
         5241.95,
         "not cancelled"
        ],
        [
         "2019-07-18",
         560434,
         15434,
         442,
         1192,
         4.93,
         14543.33,
         "not cancelled"
        ],
        [
         "2019-07-18",
         560368,
         17841,
         113,
         384,
         3.84,
         4556.34,
         "not cancelled"
        ],
        [
         "2019-07-18",
         560291,
         15291,
         44,
         70,
         9.92,
         1062.19,
         "not cancelled"
        ],
        [
         "2019-07-18",
         560394,
         14390,
         39,
         310,
         1.47,
         3294.97,
         "not cancelled"
        ],
        [
         "2019-07-18",
         560437,
         13940,
         15,
         100,
         2.14,
         1248.97,
         "not cancelled"
        ],
        [
         "2019-07-18",
         560290,
         12290,
         31,
         49,
         8.7,
         642.38,
         "not cancelled"
        ],
        [
         "2019-07-18",
         560385,
         14583,
         60,
         145,
         5.53,
         1779.05,
         "not cancelled"
        ],
        [
         "2019-07-18",
         560433,
         15433,
         236,
         580,
         5.44,
         7237.87,
         "not cancelled"
        ],
        [
         "2019-07-18",
         560287,
         13821,
         17,
         43,
         4.77,
         484.79,
         "not cancelled"
        ]
       ],
       "datasetInfos": [
        {
         "name": "_sqldf",
         "schema": {
          "fields": [
           {
            "metadata": {},
            "name": "date",
            "nullable": true,
            "type": "date"
           },
           {
            "metadata": {},
            "name": "transaction_id",
            "nullable": true,
            "type": "integer"
           },
           {
            "metadata": {},
            "name": "customer_id",
            "nullable": true,
            "type": "long"
           },
           {
            "metadata": {},
            "name": "distinct_products",
            "nullable": true,
            "type": "integer"
           },
           {
            "metadata": {},
            "name": "total_products",
            "nullable": true,
            "type": "integer"
           },
           {
            "metadata": {},
            "name": "avg_ticket",
            "nullable": true,
            "type": "double"
           },
           {
            "metadata": {},
            "name": "total_transaction",
            "nullable": true,
            "type": "double"
           },
           {
            "metadata": {},
            "name": "transaction_status",
            "nullable": true,
            "type": "string"
           }
          ],
          "type": "struct"
         },
         "tableIdentifier": null,
         "typeStr": "pyspark.sql.connect.dataframe.DataFrame"
        }
       ],
       "dbfsResultPath": null,
       "isJsonSchema": true,
       "metadata": {
        "createTempViewForImplicitDf": true,
        "dataframeName": "_sqldf",
        "executionCount": 73
       },
       "overflow": false,
       "plotOptions": {
        "customPlotOptions": {},
        "displayType": "table",
        "pivotAggregation": null,
        "pivotColumns": null,
        "xColumns": null,
        "yColumns": null
       },
       "removedWidgets": [],
       "schema": [
        {
         "metadata": "{}",
         "name": "date",
         "type": "\"date\""
        },
        {
         "metadata": "{}",
         "name": "transaction_id",
         "type": "\"integer\""
        },
        {
         "metadata": "{}",
         "name": "customer_id",
         "type": "\"long\""
        },
        {
         "metadata": "{}",
         "name": "distinct_products",
         "type": "\"integer\""
        },
        {
         "metadata": "{}",
         "name": "total_products",
         "type": "\"integer\""
        },
        {
         "metadata": "{}",
         "name": "avg_ticket",
         "type": "\"double\""
        },
        {
         "metadata": "{}",
         "name": "total_transaction",
         "type": "\"double\""
        },
        {
         "metadata": "{}",
         "name": "transaction_status",
         "type": "\"string\""
        }
       ],
       "type": "table"
      }
     },
     "output_type": "display_data"
    }
   ],
   "source": [
    "select * from juntos_somos_mais.gold.orders\n",
    "limit 10"
   ]
  },
  {
   "cell_type": "markdown",
   "metadata": {
    "application/vnd.databricks.v1+cell": {
     "cellMetadata": {
      "byteLimit": 2048000,
      "rowLimit": 10000
     },
     "inputWidgets": {},
     "nuid": "7118e2c9-159e-4d0b-b2cb-d14f9bc4d1be",
     "showTitle": false,
     "tableResultSettingsMap": {},
     "title": ""
    }
   },
   "source": [
    "### Tabela: Product item"
   ]
  },
  {
   "cell_type": "code",
   "execution_count": 0,
   "metadata": {
    "application/vnd.databricks.v1+cell": {
     "cellMetadata": {
      "byteLimit": 2048000,
      "rowLimit": 10000
     },
     "inputWidgets": {},
     "nuid": "12acb11d-af77-4161-b0e5-3628b5b43bfe",
     "showTitle": false,
     "tableResultSettingsMap": {},
     "title": ""
    }
   },
   "outputs": [
    {
     "output_type": "display_data",
     "data": {
      "text/html": [
       "<style scoped>\n",
       "  .table-result-container {\n",
       "    max-height: 300px;\n",
       "    overflow: auto;\n",
       "  }\n",
       "  table, th, td {\n",
       "    border: 1px solid black;\n",
       "    border-collapse: collapse;\n",
       "  }\n",
       "  th, td {\n",
       "    padding: 5px;\n",
       "  }\n",
       "  th {\n",
       "    text-align: left;\n",
       "  }\n",
       "</style><div class='table-result-container'><table class='table-result'><thead style='background-color: white'><tr><th>num_affected_rows</th><th>num_updated_rows</th><th>num_deleted_rows</th><th>num_inserted_rows</th></tr></thead><tbody><tr><td>531150</td><td>0</td><td>0</td><td>531150</td></tr></tbody></table></div>"
      ]
     },
     "metadata": {
      "application/vnd.databricks.v1+output": {
       "addedWidgets": {},
       "aggData": [],
       "aggError": "",
       "aggOverflow": false,
       "aggSchema": [],
       "aggSeriesLimitReached": false,
       "aggType": "",
       "arguments": {},
       "columnCustomDisplayInfos": {},
       "data": [
        [
         531150,
         0,
         0,
         531150
        ]
       ],
       "datasetInfos": [
        {
         "name": "_sqldf",
         "schema": {
          "fields": [
           {
            "metadata": {},
            "name": "num_affected_rows",
            "nullable": true,
            "type": "long"
           },
           {
            "metadata": {},
            "name": "num_updated_rows",
            "nullable": true,
            "type": "long"
           },
           {
            "metadata": {},
            "name": "num_deleted_rows",
            "nullable": true,
            "type": "long"
           },
           {
            "metadata": {},
            "name": "num_inserted_rows",
            "nullable": true,
            "type": "long"
           }
          ],
          "type": "struct"
         },
         "tableIdentifier": null,
         "typeStr": "pyspark.sql.connect.dataframe.DataFrame"
        }
       ],
       "dbfsResultPath": null,
       "isJsonSchema": true,
       "metadata": {
        "createTempViewForImplicitDf": true,
        "dataframeName": "_sqldf",
        "executionCount": 85
       },
       "overflow": false,
       "plotOptions": {
        "customPlotOptions": {},
        "displayType": "table",
        "pivotAggregation": null,
        "pivotColumns": null,
        "xColumns": null,
        "yColumns": null
       },
       "removedWidgets": [],
       "schema": [
        {
         "metadata": "{}",
         "name": "num_affected_rows",
         "type": "\"long\""
        },
        {
         "metadata": "{}",
         "name": "num_updated_rows",
         "type": "\"long\""
        },
        {
         "metadata": "{}",
         "name": "num_deleted_rows",
         "type": "\"long\""
        },
        {
         "metadata": "{}",
         "name": "num_inserted_rows",
         "type": "\"long\""
        }
       ],
       "type": "table"
      }
     },
     "output_type": "display_data"
    }
   ],
   "source": [
    "create or replace temp view new_product_items as\n",
    "select \n",
    "  date, \n",
    "  transaction_id, \n",
    "  customer_id,\n",
    "  product_id, \n",
    "  product_name,  \n",
    "  price,\n",
    "  quantity,\n",
    "  round(price * quantity,2) item_total\n",
    "from juntos_somos_mais.silver.transactions_cleaned; \n",
    "\n",
    "create table if not exists juntos_somos_mais.gold.product_items (\n",
    "  date DATE,\n",
    "  transaction_id INT,\n",
    "  customer_id BIGINT,\n",
    "  product_id STRING,\n",
    "  product_name STRING,\n",
    "  price DOUBLE,\n",
    "  quantity INT, \n",
    "  item_total DOUBLE\n",
    ")\n",
    "using delta\n",
    "comment \"Gold layer - individual product items per transaction\"; \n",
    "\n",
    "merge into juntos_somos_mais.gold.product_items as target\n",
    "using new_product_items as source\n",
    "on target.transaction_id = source.transaction_id\n",
    "and target.product_id = source.product_id\n",
    "and target.date = source.date\n",
    "when not matched then\n",
    "insert \n",
    "( \n",
    "  date, \n",
    "  transaction_id,\n",
    "  customer_id, \n",
    "  product_id, \n",
    "  product_name, \n",
    "  price, \n",
    "  quantity, \n",
    "  item_total) \n",
    "values (\n",
    "  source.date, \n",
    "  source.transaction_id,\n",
    "  source.customer_id, \n",
    "  source.product_id, \n",
    "  source.product_name, \n",
    "  source.price, \n",
    "  source.quantity, \n",
    "  source.item_total);"
   ]
  },
  {
   "cell_type": "code",
   "execution_count": 0,
   "metadata": {
    "application/vnd.databricks.v1+cell": {
     "cellMetadata": {
      "byteLimit": 2048000,
      "rowLimit": 10000
     },
     "inputWidgets": {},
     "nuid": "ef5b7586-aedb-4f75-85dd-464ebca9b6a3",
     "showTitle": false,
     "tableResultSettingsMap": {},
     "title": ""
    }
   },
   "outputs": [
    {
     "output_type": "display_data",
     "data": {
      "text/html": [
       "<style scoped>\n",
       "  .table-result-container {\n",
       "    max-height: 300px;\n",
       "    overflow: auto;\n",
       "  }\n",
       "  table, th, td {\n",
       "    border: 1px solid black;\n",
       "    border-collapse: collapse;\n",
       "  }\n",
       "  th, td {\n",
       "    padding: 5px;\n",
       "  }\n",
       "  th {\n",
       "    text-align: left;\n",
       "  }\n",
       "</style><div class='table-result-container'><table class='table-result'><thead style='background-color: white'><tr><th>date</th><th>transaction_id</th><th>customer_id</th><th>product_id</th><th>product_name</th><th>price</th><th>quantity</th><th>item_total</th></tr></thead><tbody><tr><td>2019-11-16</td><td>576840</td><td>14840</td><td>71459</td><td>Hanging Jam Jar T-Light Holders</td><td>11.95</td><td>4</td><td>47.8</td></tr><tr><td>2019-11-15</td><td>576538</td><td>14725</td><td>72800B</td><td>4 Purple Flock Dinner Candles</td><td>12.86</td><td>4</td><td>51.44</td></tr><tr><td>2019-11-15</td><td>576570</td><td>17220</td><td>22900</td><td>Set 2 Tea Towels I Love London</td><td>13.58</td><td>6</td><td>81.48</td></tr><tr><td>2019-11-15</td><td>576618</td><td>17618</td><td>22494</td><td>Emergency First Aid Tin</td><td>12.77</td><td>2</td><td>25.54</td></tr><tr><td>2019-11-14</td><td>576093</td><td>17744</td><td>21162</td><td>Toxic Area Door Hanger</td><td>10.65</td><td>24</td><td>255.6</td></tr><tr><td>2019-11-14</td><td>576254</td><td>16422</td><td>20677</td><td>Pink Polkadot Bowl</td><td>11.34</td><td>72</td><td>816.48</td></tr><tr><td>2019-11-14</td><td>576321</td><td>14953</td><td>21730</td><td>Glass Star Frosted T-Light Holder</td><td>15.32</td><td>4</td><td>61.28</td></tr><tr><td>2019-11-14</td><td>576329</td><td>15329</td><td>20837</td><td>French Floral Cushion Cover</td><td>13.62</td><td>3</td><td>40.86</td></tr><tr><td>2019-11-14</td><td>576226</td><td>13268</td><td>22591</td><td>Cardholder Gingham Christmas Tree</td><td>13.58</td><td>1</td><td>13.58</td></tr><tr><td>2019-11-13</td><td>575935</td><td>17838</td><td>21876</td><td>Pottering Mug</td><td>11.94</td><td>12</td><td>143.28</td></tr></tbody></table></div>"
      ]
     },
     "metadata": {
      "application/vnd.databricks.v1+output": {
       "addedWidgets": {},
       "aggData": [],
       "aggError": "",
       "aggOverflow": false,
       "aggSchema": [],
       "aggSeriesLimitReached": false,
       "aggType": "",
       "arguments": {},
       "columnCustomDisplayInfos": {},
       "data": [
        [
         "2019-11-16",
         576840,
         14840,
         "71459",
         "Hanging Jam Jar T-Light Holders",
         11.95,
         4,
         47.8
        ],
        [
         "2019-11-15",
         576538,
         14725,
         "72800B",
         "4 Purple Flock Dinner Candles",
         12.86,
         4,
         51.44
        ],
        [
         "2019-11-15",
         576570,
         17220,
         "22900",
         "Set 2 Tea Towels I Love London",
         13.58,
         6,
         81.48
        ],
        [
         "2019-11-15",
         576618,
         17618,
         "22494",
         "Emergency First Aid Tin",
         12.77,
         2,
         25.54
        ],
        [
         "2019-11-14",
         576093,
         17744,
         "21162",
         "Toxic Area Door Hanger",
         10.65,
         24,
         255.6
        ],
        [
         "2019-11-14",
         576254,
         16422,
         "20677",
         "Pink Polkadot Bowl",
         11.34,
         72,
         816.48
        ],
        [
         "2019-11-14",
         576321,
         14953,
         "21730",
         "Glass Star Frosted T-Light Holder",
         15.32,
         4,
         61.28
        ],
        [
         "2019-11-14",
         576329,
         15329,
         "20837",
         "French Floral Cushion Cover",
         13.62,
         3,
         40.86
        ],
        [
         "2019-11-14",
         576226,
         13268,
         "22591",
         "Cardholder Gingham Christmas Tree",
         13.58,
         1,
         13.58
        ],
        [
         "2019-11-13",
         575935,
         17838,
         "21876",
         "Pottering Mug",
         11.94,
         12,
         143.28
        ]
       ],
       "datasetInfos": [
        {
         "name": "_sqldf",
         "schema": {
          "fields": [
           {
            "metadata": {},
            "name": "date",
            "nullable": true,
            "type": "date"
           },
           {
            "metadata": {},
            "name": "transaction_id",
            "nullable": true,
            "type": "integer"
           },
           {
            "metadata": {},
            "name": "customer_id",
            "nullable": true,
            "type": "long"
           },
           {
            "metadata": {},
            "name": "product_id",
            "nullable": true,
            "type": "string"
           },
           {
            "metadata": {},
            "name": "product_name",
            "nullable": true,
            "type": "string"
           },
           {
            "metadata": {},
            "name": "price",
            "nullable": true,
            "type": "double"
           },
           {
            "metadata": {},
            "name": "quantity",
            "nullable": true,
            "type": "integer"
           },
           {
            "metadata": {},
            "name": "item_total",
            "nullable": true,
            "type": "double"
           }
          ],
          "type": "struct"
         },
         "tableIdentifier": null,
         "typeStr": "pyspark.sql.connect.dataframe.DataFrame"
        }
       ],
       "dbfsResultPath": null,
       "isJsonSchema": true,
       "metadata": {
        "createTempViewForImplicitDf": true,
        "dataframeName": "_sqldf",
        "executionCount": 86
       },
       "overflow": false,
       "plotOptions": {
        "customPlotOptions": {},
        "displayType": "table",
        "pivotAggregation": null,
        "pivotColumns": null,
        "xColumns": null,
        "yColumns": null
       },
       "removedWidgets": [],
       "schema": [
        {
         "metadata": "{}",
         "name": "date",
         "type": "\"date\""
        },
        {
         "metadata": "{}",
         "name": "transaction_id",
         "type": "\"integer\""
        },
        {
         "metadata": "{}",
         "name": "customer_id",
         "type": "\"long\""
        },
        {
         "metadata": "{}",
         "name": "product_id",
         "type": "\"string\""
        },
        {
         "metadata": "{}",
         "name": "product_name",
         "type": "\"string\""
        },
        {
         "metadata": "{}",
         "name": "price",
         "type": "\"double\""
        },
        {
         "metadata": "{}",
         "name": "quantity",
         "type": "\"integer\""
        },
        {
         "metadata": "{}",
         "name": "item_total",
         "type": "\"double\""
        }
       ],
       "type": "table"
      }
     },
     "output_type": "display_data"
    }
   ],
   "source": [
    "select * from juntos_somos_mais.gold.product_items\n",
    "limit 10"
   ]
  }
 ],
 "metadata": {
  "application/vnd.databricks.v1+notebook": {
   "computePreferences": null,
   "dashboards": [],
   "environmentMetadata": {
    "base_environment": "",
    "environment_version": "2"
   },
   "inputWidgetPreferences": null,
   "language": "sql",
   "notebookMetadata": {
    "mostRecentlyExecutedCommandWithImplicitDF": {
     "commandId": -1,
     "dataframes": [
      "_sqldf"
     ]
    },
    "pythonIndentUnit": 4
   },
   "notebookName": "juntos_somos_mais - transactions - gold",
   "widgets": {}
  },
  "language_info": {
   "name": "sql"
  }
 },
 "nbformat": 4,
 "nbformat_minor": 0
}