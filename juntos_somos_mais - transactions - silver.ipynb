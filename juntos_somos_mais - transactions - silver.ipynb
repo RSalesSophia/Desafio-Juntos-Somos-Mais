{
 "cells": [
  {
   "cell_type": "markdown",
   "metadata": {
    "application/vnd.databricks.v1+cell": {
     "cellMetadata": {},
     "inputWidgets": {},
     "nuid": "58fbc28d-21c0-4a9d-9869-bf8b0e034f31",
     "showTitle": false,
     "tableResultSettingsMap": {},
     "title": ""
    }
   },
   "source": [
    "# Silver"
   ]
  },
  {
   "cell_type": "markdown",
   "metadata": {
    "application/vnd.databricks.v1+cell": {
     "cellMetadata": {},
     "inputWidgets": {},
     "nuid": "6a822418-b30a-430e-9d59-20058bbd9f8d",
     "showTitle": false,
     "tableResultSettingsMap": {},
     "title": ""
    }
   },
   "source": [
    "## Criar schema"
   ]
  },
  {
   "cell_type": "code",
   "execution_count": 0,
   "metadata": {
    "application/vnd.databricks.v1+cell": {
     "cellMetadata": {},
     "inputWidgets": {},
     "nuid": "5147f7b0-0514-4e81-af70-4c49a69c2dbb",
     "showTitle": false,
     "tableResultSettingsMap": {},
     "title": ""
    }
   },
   "outputs": [],
   "source": [
    "create schema if not exists juntos_somos_mais.silver"
   ]
  },
  {
   "cell_type": "markdown",
   "metadata": {
    "application/vnd.databricks.v1+cell": {
     "cellMetadata": {},
     "inputWidgets": {},
     "nuid": "3909ccee-3f96-4751-9fd5-96aa821a6362",
     "showTitle": false,
     "tableResultSettingsMap": {},
     "title": ""
    }
   },
   "source": [
    "## Explorando os dados"
   ]
  },
  {
   "cell_type": "code",
   "execution_count": 0,
   "metadata": {
    "application/vnd.databricks.v1+cell": {
     "cellMetadata": {
      "byteLimit": 2048000,
      "rowLimit": 10000
     },
     "inputWidgets": {},
     "nuid": "9706ce3f-b7d5-4e50-93d7-b1b8e3477868",
     "showTitle": false,
     "tableResultSettingsMap": {},
     "title": ""
    }
   },
   "outputs": [
    {
     "output_type": "display_data",
     "data": {
      "text/html": [
       "<style scoped>\n",
       "  .table-result-container {\n",
       "    max-height: 300px;\n",
       "    overflow: auto;\n",
       "  }\n",
       "  table, th, td {\n",
       "    border: 1px solid black;\n",
       "    border-collapse: collapse;\n",
       "  }\n",
       "  th, td {\n",
       "    padding: 5px;\n",
       "  }\n",
       "  th {\n",
       "    text-align: left;\n",
       "  }\n",
       "</style><div class='table-result-container'><table class='table-result'><thead style='background-color: white'><tr><th>TransactionNo</th><th>Date</th><th>ProductNo</th><th>ProductName</th><th>Price</th><th>Quantity</th><th>CustomerNo</th><th>Country</th></tr></thead><tbody><tr><td>560773</td><td>7/20/2019</td><td>22179</td><td>Set 10 Night Owl Lights</td><td>16.18</td><td>1</td><td>14773.0</td><td>United Kingdom</td></tr><tr><td>560773</td><td>7/20/2019</td><td>22182</td><td>Cake Stand Victorian Filigree Small</td><td>14.48</td><td>3</td><td>14773.0</td><td>United Kingdom</td></tr><tr><td>560773</td><td>7/20/2019</td><td>22190</td><td>Local Cafe Mug</td><td>12.77</td><td>1</td><td>14773.0</td><td>United Kingdom</td></tr><tr><td>560773</td><td>7/20/2019</td><td>22196</td><td>Small Heart Measuring Spoons</td><td>11.92</td><td>1</td><td>14773.0</td><td>United Kingdom</td></tr><tr><td>560773</td><td>7/20/2019</td><td>22199</td><td>Frying Pan Red Retrospot</td><td>14.48</td><td>2</td><td>14773.0</td><td>United Kingdom</td></tr><tr><td>560773</td><td>7/20/2019</td><td>22203</td><td>Milk Pan Red Retrospot</td><td>13.62</td><td>2</td><td>14773.0</td><td>United Kingdom</td></tr><tr><td>560773</td><td>7/20/2019</td><td>22208</td><td>Wood Stamp Set Thank You</td><td>11.1</td><td>7</td><td>14773.0</td><td>United Kingdom</td></tr><tr><td>560773</td><td>7/20/2019</td><td>22209</td><td>Wood Stamp Set Happy Birthday</td><td>11.1</td><td>2</td><td>14773.0</td><td>United Kingdom</td></tr><tr><td>560773</td><td>7/20/2019</td><td>22210</td><td>Wood Stamp Set Best Wishes</td><td>11.1</td><td>5</td><td>14773.0</td><td>United Kingdom</td></tr><tr><td>560773</td><td>7/20/2019</td><td>22211</td><td>Wood Stamp Set Flowers</td><td>11.1</td><td>5</td><td>14773.0</td><td>United Kingdom</td></tr></tbody></table></div>"
      ]
     },
     "metadata": {
      "application/vnd.databricks.v1+output": {
       "addedWidgets": {},
       "aggData": [],
       "aggError": "",
       "aggOverflow": false,
       "aggSchema": [],
       "aggSeriesLimitReached": false,
       "aggType": "",
       "arguments": {},
       "columnCustomDisplayInfos": {},
       "data": [
        [
         "560773",
         "7/20/2019",
         "22179",
         "Set 10 Night Owl Lights",
         16.18,
         1,
         14773.0,
         "United Kingdom"
        ],
        [
         "560773",
         "7/20/2019",
         "22182",
         "Cake Stand Victorian Filigree Small",
         14.48,
         3,
         14773.0,
         "United Kingdom"
        ],
        [
         "560773",
         "7/20/2019",
         "22190",
         "Local Cafe Mug",
         12.77,
         1,
         14773.0,
         "United Kingdom"
        ],
        [
         "560773",
         "7/20/2019",
         "22196",
         "Small Heart Measuring Spoons",
         11.92,
         1,
         14773.0,
         "United Kingdom"
        ],
        [
         "560773",
         "7/20/2019",
         "22199",
         "Frying Pan Red Retrospot",
         14.48,
         2,
         14773.0,
         "United Kingdom"
        ],
        [
         "560773",
         "7/20/2019",
         "22203",
         "Milk Pan Red Retrospot",
         13.62,
         2,
         14773.0,
         "United Kingdom"
        ],
        [
         "560773",
         "7/20/2019",
         "22208",
         "Wood Stamp Set Thank You",
         11.1,
         7,
         14773.0,
         "United Kingdom"
        ],
        [
         "560773",
         "7/20/2019",
         "22209",
         "Wood Stamp Set Happy Birthday",
         11.1,
         2,
         14773.0,
         "United Kingdom"
        ],
        [
         "560773",
         "7/20/2019",
         "22210",
         "Wood Stamp Set Best Wishes",
         11.1,
         5,
         14773.0,
         "United Kingdom"
        ],
        [
         "560773",
         "7/20/2019",
         "22211",
         "Wood Stamp Set Flowers",
         11.1,
         5,
         14773.0,
         "United Kingdom"
        ]
       ],
       "datasetInfos": [
        {
         "name": "_sqldf",
         "schema": {
          "fields": [
           {
            "metadata": {},
            "name": "TransactionNo",
            "nullable": true,
            "type": "string"
           },
           {
            "metadata": {},
            "name": "Date",
            "nullable": true,
            "type": "string"
           },
           {
            "metadata": {},
            "name": "ProductNo",
            "nullable": true,
            "type": "string"
           },
           {
            "metadata": {},
            "name": "ProductName",
            "nullable": true,
            "type": "string"
           },
           {
            "metadata": {},
            "name": "Price",
            "nullable": true,
            "type": "double"
           },
           {
            "metadata": {},
            "name": "Quantity",
            "nullable": true,
            "type": "long"
           },
           {
            "metadata": {},
            "name": "CustomerNo",
            "nullable": true,
            "type": "double"
           },
           {
            "metadata": {},
            "name": "Country",
            "nullable": true,
            "type": "string"
           }
          ],
          "type": "struct"
         },
         "tableIdentifier": null,
         "typeStr": "pyspark.sql.connect.dataframe.DataFrame"
        }
       ],
       "dbfsResultPath": null,
       "isJsonSchema": true,
       "metadata": {
        "createTempViewForImplicitDf": true,
        "dataframeName": "_sqldf",
        "executionCount": 1
       },
       "overflow": false,
       "plotOptions": {
        "customPlotOptions": {},
        "displayType": "table",
        "pivotAggregation": null,
        "pivotColumns": null,
        "xColumns": null,
        "yColumns": null
       },
       "removedWidgets": [],
       "schema": [
        {
         "metadata": "{}",
         "name": "TransactionNo",
         "type": "\"string\""
        },
        {
         "metadata": "{}",
         "name": "Date",
         "type": "\"string\""
        },
        {
         "metadata": "{}",
         "name": "ProductNo",
         "type": "\"string\""
        },
        {
         "metadata": "{}",
         "name": "ProductName",
         "type": "\"string\""
        },
        {
         "metadata": "{}",
         "name": "Price",
         "type": "\"double\""
        },
        {
         "metadata": "{}",
         "name": "Quantity",
         "type": "\"long\""
        },
        {
         "metadata": "{}",
         "name": "CustomerNo",
         "type": "\"double\""
        },
        {
         "metadata": "{}",
         "name": "Country",
         "type": "\"string\""
        }
       ],
       "type": "table"
      }
     },
     "output_type": "display_data"
    }
   ],
   "source": [
    "select * from juntos_somos_mais.bronze.transactions_raw\n",
    "limit 10"
   ]
  },
  {
   "cell_type": "code",
   "execution_count": 0,
   "metadata": {
    "application/vnd.databricks.v1+cell": {
     "cellMetadata": {
      "byteLimit": 2048000,
      "rowLimit": 10000
     },
     "inputWidgets": {},
     "nuid": "3e8cbcd3-0a09-4a65-8185-d9156dba97d7",
     "showTitle": false,
     "tableResultSettingsMap": {},
     "title": ""
    }
   },
   "outputs": [
    {
     "output_type": "display_data",
     "data": {
      "text/html": [
       "<style scoped>\n",
       "  .table-result-container {\n",
       "    max-height: 300px;\n",
       "    overflow: auto;\n",
       "  }\n",
       "  table, th, td {\n",
       "    border: 1px solid black;\n",
       "    border-collapse: collapse;\n",
       "  }\n",
       "  th, td {\n",
       "    padding: 5px;\n",
       "  }\n",
       "  th {\n",
       "    text-align: left;\n",
       "  }\n",
       "</style><div class='table-result-container'><table class='table-result'><thead style='background-color: white'><tr><th>null_TransactionNo</th><th>null_Date</th><th>null_ProductNo</th><th>null_ProductName</th><th>null_Price</th><th>null_Quantity</th><th>null_CustomerNo</th><th>null_Country</th></tr></thead><tbody><tr><td>0</td><td>0</td><td>0</td><td>0</td><td>0</td><td>0</td><td>55</td><td>0</td></tr></tbody></table></div>"
      ]
     },
     "metadata": {
      "application/vnd.databricks.v1+output": {
       "addedWidgets": {},
       "aggData": [],
       "aggError": "",
       "aggOverflow": false,
       "aggSchema": [],
       "aggSeriesLimitReached": false,
       "aggType": "",
       "arguments": {},
       "columnCustomDisplayInfos": {},
       "data": [
        [
         0,
         0,
         0,
         0,
         0,
         0,
         55,
         0
        ]
       ],
       "datasetInfos": [
        {
         "name": "_sqldf",
         "schema": {
          "fields": [
           {
            "metadata": {},
            "name": "null_TransactionNo",
            "nullable": true,
            "type": "long"
           },
           {
            "metadata": {},
            "name": "null_Date",
            "nullable": true,
            "type": "long"
           },
           {
            "metadata": {},
            "name": "null_ProductNo",
            "nullable": true,
            "type": "long"
           },
           {
            "metadata": {},
            "name": "null_ProductName",
            "nullable": true,
            "type": "long"
           },
           {
            "metadata": {},
            "name": "null_Price",
            "nullable": true,
            "type": "long"
           },
           {
            "metadata": {},
            "name": "null_Quantity",
            "nullable": true,
            "type": "long"
           },
           {
            "metadata": {},
            "name": "null_CustomerNo",
            "nullable": true,
            "type": "long"
           },
           {
            "metadata": {},
            "name": "null_Country",
            "nullable": true,
            "type": "long"
           }
          ],
          "type": "struct"
         },
         "tableIdentifier": null,
         "typeStr": "pyspark.sql.connect.dataframe.DataFrame"
        }
       ],
       "dbfsResultPath": null,
       "isJsonSchema": true,
       "metadata": {
        "createTempViewForImplicitDf": true,
        "dataframeName": "_sqldf",
        "executionCount": 5
       },
       "overflow": false,
       "plotOptions": {
        "customPlotOptions": {},
        "displayType": "table",
        "pivotAggregation": null,
        "pivotColumns": null,
        "xColumns": null,
        "yColumns": null
       },
       "removedWidgets": [],
       "schema": [
        {
         "metadata": "{}",
         "name": "null_TransactionNo",
         "type": "\"long\""
        },
        {
         "metadata": "{}",
         "name": "null_Date",
         "type": "\"long\""
        },
        {
         "metadata": "{}",
         "name": "null_ProductNo",
         "type": "\"long\""
        },
        {
         "metadata": "{}",
         "name": "null_ProductName",
         "type": "\"long\""
        },
        {
         "metadata": "{}",
         "name": "null_Price",
         "type": "\"long\""
        },
        {
         "metadata": "{}",
         "name": "null_Quantity",
         "type": "\"long\""
        },
        {
         "metadata": "{}",
         "name": "null_CustomerNo",
         "type": "\"long\""
        },
        {
         "metadata": "{}",
         "name": "null_Country",
         "type": "\"long\""
        }
       ],
       "type": "table"
      }
     },
     "output_type": "display_data"
    }
   ],
   "source": [
    "-- Identificando os valores nulos\n",
    "select \n",
    "  sum(if(TransactionNo is null, 1,0)) null_TransactionNo, \n",
    "  sum(if(Date is null, 1,0)) null_Date, \n",
    "  sum(if(ProductNo is null, 1,0)) null_ProductNo, \n",
    "  sum(if(ProductName is null, 1,0)) null_ProductName, \n",
    "  sum(if(Price is null, 1,0)) null_Price, \n",
    "  sum(if(Quantity is null, 1,0)) null_Quantity, \n",
    "  sum(if(CustomerNo is null,1,0)) null_CustomerNo, \n",
    "  sum(if(Country is null,1,0)) null_Country\n",
    "from juntos_somos_mais.bronze.transactions_raw"
   ]
  },
  {
   "cell_type": "code",
   "execution_count": 0,
   "metadata": {
    "application/vnd.databricks.v1+cell": {
     "cellMetadata": {
      "byteLimit": 2048000,
      "rowLimit": 10000
     },
     "inputWidgets": {},
     "nuid": "cb9a7ffb-9872-46e1-aa6a-484941179762",
     "showTitle": false,
     "tableResultSettingsMap": {},
     "title": ""
    }
   },
   "outputs": [
    {
     "output_type": "display_data",
     "data": {
      "text/html": [
       "<style scoped>\n",
       "  .table-result-container {\n",
       "    max-height: 300px;\n",
       "    overflow: auto;\n",
       "  }\n",
       "  table, th, td {\n",
       "    border: 1px solid black;\n",
       "    border-collapse: collapse;\n",
       "  }\n",
       "  th, td {\n",
       "    padding: 5px;\n",
       "  }\n",
       "  th {\n",
       "    text-align: left;\n",
       "  }\n",
       "</style><div class='table-result-container'><table class='table-result'><thead style='background-color: white'><tr><th>TransactionNo</th><th>Date</th><th>ProductNo</th><th>ProductName</th><th>Price</th><th>Quantity</th><th>CustomerNo</th><th>Country</th><th>count(*)</th></tr></thead><tbody><tr><td>555524</td><td>6/5/2019</td><td>22698</td><td>Pink Regency Teacup And Saucer</td><td>13.27</td><td>1</td><td>16923.0</td><td>United Kingdom</td><td>20</td></tr><tr><td>555524</td><td>6/5/2019</td><td>22697</td><td>Green Regency Teacup And Saucer</td><td>13.27</td><td>1</td><td>16923.0</td><td>United Kingdom</td><td>12</td></tr><tr><td>547651</td><td>3/24/2019</td><td>82613A</td><td>Metal Sign Cupcake Single Hook</td><td>11.53</td><td>1</td><td>16904.0</td><td>United Kingdom</td><td>8</td></tr><tr><td>572861</td><td>10/26/2019</td><td>22775</td><td>Purple Drawerknob Acrylic Edwardian</td><td>11.53</td><td>12</td><td>14102.0</td><td>United Kingdom</td><td>8</td></tr><tr><td>538514</td><td>12/12/2018</td><td>21756</td><td>Bath Building Block Word</td><td>16.35</td><td>1</td><td>15044.0</td><td>United Kingdom</td><td>6</td></tr><tr><td>541266</td><td>1/16/2019</td><td>21755</td><td>Love Building Block Word</td><td>16.35</td><td>1</td><td>15673.0</td><td>United Kingdom</td><td>6</td></tr><tr><td>541266</td><td>1/16/2019</td><td>21754</td><td>Home Building Block Word</td><td>16.35</td><td>1</td><td>15673.0</td><td>United Kingdom</td><td>6</td></tr><tr><td>540524</td><td>1/9/2019</td><td>21756</td><td>Bath Building Block Word</td><td>16.35</td><td>1</td><td>16735.0</td><td>United Kingdom</td><td>6</td></tr><tr><td>547712</td><td>3/24/2019</td><td>22699</td><td>Roses Regency Teacup And Saucer</td><td>13.27</td><td>1</td><td>16905.0</td><td>United Kingdom</td><td>5</td></tr><tr><td>574481</td><td>11/4/2019</td><td>23084</td><td>Rabbit Night Light</td><td>12.38</td><td>1</td><td>18022.0</td><td>United Kingdom</td><td>5</td></tr></tbody></table></div>"
      ]
     },
     "metadata": {
      "application/vnd.databricks.v1+output": {
       "addedWidgets": {},
       "aggData": [],
       "aggError": "",
       "aggOverflow": false,
       "aggSchema": [],
       "aggSeriesLimitReached": false,
       "aggType": "",
       "arguments": {},
       "columnCustomDisplayInfos": {},
       "data": [
        [
         "555524",
         "6/5/2019",
         "22698",
         "Pink Regency Teacup And Saucer",
         13.27,
         1,
         16923.0,
         "United Kingdom",
         20
        ],
        [
         "555524",
         "6/5/2019",
         "22697",
         "Green Regency Teacup And Saucer",
         13.27,
         1,
         16923.0,
         "United Kingdom",
         12
        ],
        [
         "547651",
         "3/24/2019",
         "82613A",
         "Metal Sign Cupcake Single Hook",
         11.53,
         1,
         16904.0,
         "United Kingdom",
         8
        ],
        [
         "572861",
         "10/26/2019",
         "22775",
         "Purple Drawerknob Acrylic Edwardian",
         11.53,
         12,
         14102.0,
         "United Kingdom",
         8
        ],
        [
         "538514",
         "12/12/2018",
         "21756",
         "Bath Building Block Word",
         16.35,
         1,
         15044.0,
         "United Kingdom",
         6
        ],
        [
         "541266",
         "1/16/2019",
         "21755",
         "Love Building Block Word",
         16.35,
         1,
         15673.0,
         "United Kingdom",
         6
        ],
        [
         "541266",
         "1/16/2019",
         "21754",
         "Home Building Block Word",
         16.35,
         1,
         15673.0,
         "United Kingdom",
         6
        ],
        [
         "540524",
         "1/9/2019",
         "21756",
         "Bath Building Block Word",
         16.35,
         1,
         16735.0,
         "United Kingdom",
         6
        ],
        [
         "547712",
         "3/24/2019",
         "22699",
         "Roses Regency Teacup And Saucer",
         13.27,
         1,
         16905.0,
         "United Kingdom",
         5
        ],
        [
         "574481",
         "11/4/2019",
         "23084",
         "Rabbit Night Light",
         12.38,
         1,
         18022.0,
         "United Kingdom",
         5
        ]
       ],
       "datasetInfos": [
        {
         "name": "_sqldf",
         "schema": {
          "fields": [
           {
            "metadata": {},
            "name": "TransactionNo",
            "nullable": true,
            "type": "string"
           },
           {
            "metadata": {},
            "name": "Date",
            "nullable": true,
            "type": "string"
           },
           {
            "metadata": {},
            "name": "ProductNo",
            "nullable": true,
            "type": "string"
           },
           {
            "metadata": {},
            "name": "ProductName",
            "nullable": true,
            "type": "string"
           },
           {
            "metadata": {},
            "name": "Price",
            "nullable": true,
            "type": "double"
           },
           {
            "metadata": {},
            "name": "Quantity",
            "nullable": true,
            "type": "long"
           },
           {
            "metadata": {},
            "name": "CustomerNo",
            "nullable": true,
            "type": "double"
           },
           {
            "metadata": {},
            "name": "Country",
            "nullable": true,
            "type": "string"
           },
           {
            "metadata": {},
            "name": "count(*)",
            "nullable": false,
            "type": "long"
           }
          ],
          "type": "struct"
         },
         "tableIdentifier": null,
         "typeStr": "pyspark.sql.connect.dataframe.DataFrame"
        }
       ],
       "dbfsResultPath": null,
       "isJsonSchema": true,
       "metadata": {
        "createTempViewForImplicitDf": true,
        "dataframeName": "_sqldf",
        "executionCount": 2
       },
       "overflow": false,
       "plotOptions": {
        "customPlotOptions": {},
        "displayType": "table",
        "pivotAggregation": null,
        "pivotColumns": null,
        "xColumns": null,
        "yColumns": null
       },
       "removedWidgets": [],
       "schema": [
        {
         "metadata": "{}",
         "name": "TransactionNo",
         "type": "\"string\""
        },
        {
         "metadata": "{}",
         "name": "Date",
         "type": "\"string\""
        },
        {
         "metadata": "{}",
         "name": "ProductNo",
         "type": "\"string\""
        },
        {
         "metadata": "{}",
         "name": "ProductName",
         "type": "\"string\""
        },
        {
         "metadata": "{}",
         "name": "Price",
         "type": "\"double\""
        },
        {
         "metadata": "{}",
         "name": "Quantity",
         "type": "\"long\""
        },
        {
         "metadata": "{}",
         "name": "CustomerNo",
         "type": "\"double\""
        },
        {
         "metadata": "{}",
         "name": "Country",
         "type": "\"string\""
        },
        {
         "metadata": "{}",
         "name": "count(*)",
         "type": "\"long\""
        }
       ],
       "type": "table"
      }
     },
     "output_type": "display_data"
    }
   ],
   "source": [
    "-- Identificando valores duplicados\n",
    "select \n",
    "  TransactionNo,\n",
    "  Date,\n",
    "  ProductNo,\n",
    "  ProductName,\n",
    "  Price,\n",
    "  Quantity,\n",
    "  CustomerNo,\n",
    "  Country, \n",
    "  count(*)\n",
    "from juntos_somos_mais.bronze.transactions_raw\n",
    "group by \n",
    "  TransactionNo,\n",
    "  Date,\n",
    "  ProductNo,\n",
    "  ProductName,\n",
    "  Price,\n",
    "  Quantity,\n",
    "  CustomerNo,\n",
    "  Country\n",
    "having count(*) > 1\n",
    "order by count(*) desc\n",
    "limit 10"
   ]
  },
  {
   "cell_type": "markdown",
   "metadata": {
    "application/vnd.databricks.v1+cell": {
     "cellMetadata": {},
     "inputWidgets": {},
     "nuid": "f2d2d27a-d58f-4864-83e9-8586a1af4c2c",
     "showTitle": false,
     "tableResultSettingsMap": {},
     "title": ""
    }
   },
   "source": [
    "### Pontos de atenção"
   ]
  },
  {
   "cell_type": "markdown",
   "metadata": {
    "application/vnd.databricks.v1+cell": {
     "cellMetadata": {},
     "inputWidgets": {},
     "nuid": "f602aa21-17b3-4fec-ba87-599465bb19e9",
     "showTitle": false,
     "tableResultSettingsMap": {},
     "title": ""
    }
   },
   "source": [
    "\n",
    "Na camada **Bronze**, que armazena os dados exatamente como recebidos da fonte, foram identificadas inconsistências que impactam a qualidade e a modelagem dos dados downstream:\n",
    "\n",
    "- A coluna Date está sendo ingerida como string, quando o tipo ideal seria date, comprometendo a manipulação temporal e a eficiência em queries;\n",
    "- Existem registros duplicados, onde se espera unicidade por item de transação — o que pode levar a contagens incorretas e distorções em métricas agregadas;\n",
    "- A coluna CustomerNo apresenta nulls, embora esse campo deva ser obrigatório para rastreabilidade do cliente;\n",
    "- O tipo da coluna CustomerNo está definido como float, quando deveria ser bigint, o que pode causar perda de precisão e problemas de junção com outras tabelas relacionais;\n",
    "- Não há um identificador explícito que diferencie o tipo de transação por item de produto, o que pode dificultar identificação de alterações nos registros."
   ]
  },
  {
   "cell_type": "markdown",
   "metadata": {
    "application/vnd.databricks.v1+cell": {
     "cellMetadata": {},
     "inputWidgets": {},
     "nuid": "3d32b96d-0753-42a1-b245-883716a43652",
     "showTitle": false,
     "tableResultSettingsMap": {},
     "title": ""
    }
   },
   "source": [
    "## Criar tabela"
   ]
  },
  {
   "cell_type": "code",
   "execution_count": 0,
   "metadata": {
    "application/vnd.databricks.v1+cell": {
     "cellMetadata": {
      "byteLimit": 2048000,
      "rowLimit": 10000
     },
     "inputWidgets": {},
     "nuid": "b0110675-ad38-4b8e-813c-e82aa4c42b5c",
     "showTitle": false,
     "tableResultSettingsMap": {},
     "title": ""
    }
   },
   "outputs": [],
   "source": [
    "-- Criar TEMP VIEW com limpeza e transformação\n",
    "create or replace temp view new_transactions as\n",
    "select \n",
    "distinct\n",
    "  cast(replace(TransactionNo, 'C', '') as int) transaction_id,\n",
    "  to_date(Date, 'M/d/yyyy') date,\n",
    "  ProductNo product_id,\n",
    "  ProductName product_name,\n",
    "  Price price, \n",
    "  abs(Quantity) quantity,\n",
    "  CustomerNo customer_id,\n",
    "  Country customer_country, \n",
    "  if(TransactionNo like 'C%', 'cancelled', 'not cancelled') transaction_status\n",
    "from juntos_somos_mais.bronze.transactions_raw"
   ]
  },
  {
   "cell_type": "code",
   "execution_count": 0,
   "metadata": {
    "application/vnd.databricks.v1+cell": {
     "cellMetadata": {
      "byteLimit": 2048000,
      "rowLimit": 10000
     },
     "inputWidgets": {},
     "nuid": "b4d3710e-3f7a-4474-84ab-e6bf5b4cb6c0",
     "showTitle": false,
     "tableResultSettingsMap": {},
     "title": ""
    }
   },
   "outputs": [],
   "source": [
    "create table if not exists juntos_somos_mais.silver.transactions_cleaned (\n",
    "  transaction_id int,\n",
    "  date date,\n",
    "  product_id string,\n",
    "  product_name string,\n",
    "  price double,\n",
    "  quantity int,\n",
    "  customer_id bigint,\n",
    "  customer_country string, \n",
    "  transaction_status string\n",
    ")\n",
    "using delta\n",
    "comment \"Cleaned data from transactions: no duplicates and transformed columns\" "
   ]
  },
  {
   "cell_type": "code",
   "execution_count": 0,
   "metadata": {
    "application/vnd.databricks.v1+cell": {
     "cellMetadata": {
      "byteLimit": 2048000,
      "rowLimit": 10000
     },
     "inputWidgets": {},
     "nuid": "cc854095-eeee-4e5b-96c6-d537ee6b018f",
     "showTitle": false,
     "tableResultSettingsMap": {},
     "title": ""
    }
   },
   "outputs": [
    {
     "output_type": "display_data",
     "data": {
      "text/html": [
       "<style scoped>\n",
       "  .table-result-container {\n",
       "    max-height: 300px;\n",
       "    overflow: auto;\n",
       "  }\n",
       "  table, th, td {\n",
       "    border: 1px solid black;\n",
       "    border-collapse: collapse;\n",
       "  }\n",
       "  th, td {\n",
       "    padding: 5px;\n",
       "  }\n",
       "  th {\n",
       "    text-align: left;\n",
       "  }\n",
       "</style><div class='table-result-container'><table class='table-result'><thead style='background-color: white'><tr><th>num_affected_rows</th><th>num_updated_rows</th><th>num_deleted_rows</th><th>num_inserted_rows</th></tr></thead><tbody><tr><td>531150</td><td>0</td><td>0</td><td>531150</td></tr></tbody></table></div>"
      ]
     },
     "metadata": {
      "application/vnd.databricks.v1+output": {
       "addedWidgets": {},
       "aggData": [],
       "aggError": "",
       "aggOverflow": false,
       "aggSchema": [],
       "aggSeriesLimitReached": false,
       "aggType": "",
       "arguments": {},
       "columnCustomDisplayInfos": {},
       "data": [
        [
         531150,
         0,
         0,
         531150
        ]
       ],
       "datasetInfos": [
        {
         "name": "_sqldf",
         "schema": {
          "fields": [
           {
            "metadata": {},
            "name": "num_affected_rows",
            "nullable": true,
            "type": "long"
           },
           {
            "metadata": {},
            "name": "num_updated_rows",
            "nullable": true,
            "type": "long"
           },
           {
            "metadata": {},
            "name": "num_deleted_rows",
            "nullable": true,
            "type": "long"
           },
           {
            "metadata": {},
            "name": "num_inserted_rows",
            "nullable": true,
            "type": "long"
           }
          ],
          "type": "struct"
         },
         "tableIdentifier": null,
         "typeStr": "pyspark.sql.connect.dataframe.DataFrame"
        }
       ],
       "dbfsResultPath": null,
       "isJsonSchema": true,
       "metadata": {
        "createTempViewForImplicitDf": true,
        "dataframeName": "_sqldf",
        "executionCount": 64
       },
       "overflow": false,
       "plotOptions": {
        "customPlotOptions": {},
        "displayType": "table",
        "pivotAggregation": null,
        "pivotColumns": null,
        "xColumns": null,
        "yColumns": null
       },
       "removedWidgets": [],
       "schema": [
        {
         "metadata": "{}",
         "name": "num_affected_rows",
         "type": "\"long\""
        },
        {
         "metadata": "{}",
         "name": "num_updated_rows",
         "type": "\"long\""
        },
        {
         "metadata": "{}",
         "name": "num_deleted_rows",
         "type": "\"long\""
        },
        {
         "metadata": "{}",
         "name": "num_inserted_rows",
         "type": "\"long\""
        }
       ],
       "type": "table"
      }
     },
     "output_type": "display_data"
    }
   ],
   "source": [
    "merge into juntos_somos_mais.silver.transactions_cleaned as target\n",
    "using new_transactions as source\n",
    "on target.transaction_id = source.transaction_id\n",
    "and target.product_id = source.product_id \n",
    "and target.date = source.date\n",
    "-- Caso o pedido seja cancelado\n",
    "when matched then\n",
    "  update set\n",
    "    target.transaction_status = source.transaction_status\n",
    "-- Novos registros\n",
    "when not matched then\n",
    "  insert (\n",
    "    transaction_id,\n",
    "    date,\n",
    "    product_id,\n",
    "    product_name,\n",
    "    price,\n",
    "    quantity,\n",
    "    customer_id,\n",
    "    country_customer,\n",
    "    transaction_status\n",
    "  )\n",
    "  values (\n",
    "    source.transaction_id,\n",
    "    source.date,\n",
    "    source.product_id,\n",
    "    source.product_name,\n",
    "    source.price,\n",
    "    source.quantity,\n",
    "    source.customer_id,\n",
    "    source.country_customer,\n",
    "    source.transaction_status\n",
    "  )"
   ]
  }
 ],
 "metadata": {
  "application/vnd.databricks.v1+notebook": {
   "computePreferences": null,
   "dashboards": [],
   "environmentMetadata": {
    "base_environment": "",
    "environment_version": "2"
   },
   "inputWidgetPreferences": null,
   "language": "sql",
   "notebookMetadata": {
    "pythonIndentUnit": 4
   },
   "notebookName": "juntos_somos_mais - transactions - silver",
   "widgets": {}
  },
  "language_info": {
   "name": "sql"
  }
 },
 "nbformat": 4,
 "nbformat_minor": 0
}